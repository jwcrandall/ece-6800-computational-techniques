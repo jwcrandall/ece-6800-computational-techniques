{
 "cells": [
  {
   "cell_type": "code",
   "execution_count": 16,
   "metadata": {
    "execution": {
     "iopub.execute_input": "2022-01-13T20:06:37.869859Z",
     "iopub.status.busy": "2022-01-13T20:06:37.869642Z",
     "iopub.status.idle": "2022-01-13T20:06:37.873059Z",
     "shell.execute_reply": "2022-01-13T20:06:37.872304Z",
     "shell.execute_reply.started": "2022-01-13T20:06:37.869836Z"
    }
   },
   "outputs": [],
   "source": [
    "import os\n",
    "import numpy as np\n",
    "import matplotlib.mlab as mlab\n",
    "import matplotlib.pyplot as plt"
   ]
  },
  {
   "cell_type": "code",
   "execution_count": 21,
   "metadata": {
    "execution": {
     "iopub.execute_input": "2022-01-13T20:08:22.156495Z",
     "iopub.status.busy": "2022-01-13T20:08:22.156267Z",
     "iopub.status.idle": "2022-01-13T20:08:22.160380Z",
     "shell.execute_reply": "2022-01-13T20:08:22.159717Z",
     "shell.execute_reply.started": "2022-01-13T20:08:22.156470Z"
    }
   },
   "outputs": [
    {
     "data": {
      "text/plain": [
       "'/Users/josephcrandall/Repos/csci-6907-quantum-computing/nb/modules/figs/m01/e03xaxis.png'"
      ]
     },
     "execution_count": 21,
     "metadata": {},
     "output_type": "execute_result"
    }
   ],
   "source": [
    "os.chdir(path)"
   ]
  },
  {
   "cell_type": "code",
   "execution_count": 28,
   "metadata": {
    "execution": {
     "iopub.execute_input": "2022-01-13T20:19:50.205269Z",
     "iopub.status.busy": "2022-01-13T20:19:50.205084Z",
     "iopub.status.idle": "2022-01-13T20:19:50.317711Z",
     "shell.execute_reply": "2022-01-13T20:19:50.317257Z",
     "shell.execute_reply.started": "2022-01-13T20:19:50.205249Z"
    }
   },
   "outputs": [
    {
     "data": {
      "image/png": "[encoded data removed]",
      "text/plain": [
       "<Figure size 432x288 with 1 Axes>"
      ]
     },
     "metadata": {
      "needs_background": "light"
     },
     "output_type": "display_data"
    },
    {
     "data": {
      "text/plain": [
       "<Figure size 432x288 with 0 Axes>"
      ]
     },
     "metadata": {},
     "output_type": "display_data"
    }
   ],
   "source": [
    "x = [1,2,2,2,3,3,4,4,4,5]\n",
    "num_bins = 5\n",
    "n, bins, patches = plt.hist(x, num_bins, facecolor='blue', alpha=0.5)\n",
    "ax = plt.gca()\n",
    "ax.set_xlabel(\"x axis\")\n",
    "plt.show() \n",
    "plt.savefig(\"../modules/figs/m01/e03xaxis.png\") #save as png"
   ]
  },
  {
   "cell_type": "code",
   "execution_count": 27,
   "metadata": {
    "execution": {
     "iopub.execute_input": "2022-01-13T20:15:39.110357Z",
     "iopub.status.busy": "2022-01-13T20:15:39.110169Z",
     "iopub.status.idle": "2022-01-13T20:15:39.229440Z",
     "shell.execute_reply": "2022-01-13T20:15:39.229002Z",
     "shell.execute_reply.started": "2022-01-13T20:15:39.110337Z"
    }
   },
   "outputs": [
    {
     "data": {
      "image/png": "[encoded data removed]",
      "text/plain": [
       "<Figure size 432x288 with 1 Axes>"
      ]
     },
     "metadata": {
      "needs_background": "light"
     },
     "output_type": "display_data"
    },
    {
     "data": {
      "text/plain": [
       "<Figure size 432x288 with 0 Axes>"
      ]
     },
     "metadata": {},
     "output_type": "display_data"
    }
   ],
   "source": [
    "x = [1,2,2,3,3,3,4,4,5]\n",
    "num_bins = 5\n",
    "n, bins, patches = plt.hist(x, num_bins, facecolor='blue', alpha=0.5)\n",
    "ax = plt.gca()\n",
    "ax.set_xlabel(\"y axis\")\n",
    "plt.show() \n",
    "plt.savefig(\"../modules/figs/m01/e03yaxis.png\")"
   ]
  },
  {
   "cell_type": "code",
   "execution_count": null,
   "metadata": {},
   "outputs": [],
   "source": []
  }
 ],
 "metadata": {
  "kernelspec": {
   "display_name": "Python 3",
   "language": "python",
   "name": "python3"
  },
  "language_info": {
   "codemirror_mode": {
    "name": "ipython",
    "version": 3
   },
   "file_extension": ".py",
   "mimetype": "text/x-python",
   "name": "python",
   "nbconvert_exporter": "python",
   "pygments_lexer": "ipython3",
   "version": "3.8.3"
  }
 },
 "nbformat": 4,
 "nbformat_minor": 4
}
